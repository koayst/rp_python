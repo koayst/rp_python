{
 "cells": [
  {
   "cell_type": "markdown",
   "metadata": {},
   "source": [
    "<img src='rplogo_small.png'>\n",
    "<h1>\n",
    "    <center>TIPP - AAI Assignement (Python for Data Science)</center>\n",
    "    <center>Due Due: 31st January 2020</center>\n",
    "</h1>\n",
    "<h3>\n",
    "    <center>Name: Koay Seng Tian</center></h4>\n",
    "    <center>Email: sengtian@yahoo.com</center></h4>\n",
    "</h3>"
   ]
  },
  {
   "cell_type": "code",
   "execution_count": 1,
   "metadata": {},
   "outputs": [
    {
     "name": "stdout",
     "output_type": "stream",
     "text": [
      "Version(s):\n",
      "\n",
      "python = 3.7.5\n"
     ]
    }
   ],
   "source": [
    "# show the versions of modules/packages imported\n",
    "from platform import python_version\n",
    "\n",
    "print('Version(s):\\n')\n",
    "print('python =', python_version())"
   ]
  },
  {
   "cell_type": "markdown",
   "metadata": {},
   "source": [
    "# Question 1\n",
    "A vineyard owner is planting several new rows of grapevines, and needs to know how many grapevines to plant in each row. She has determined that after measuring the length of a future row, she can use the following formula to calculate the number of vines that will fit in the row, along with the trellis end-post assemblies that will need to be constructed at each end of the row:\n",
    "\n",
    "\\begin{equation}V = \\frac{R - 2E}{S} \\end{equation}\n",
    "\n",
    "The terms in the formula are:\n",
    "- V is the number of grapevines that will fit in the row.\n",
    "- R is the length of the row, in feet.\n",
    "- E is the amount of space, in feet, used by an end-post assembly. \n",
    "- S is the space between vines, in feet.\n",
    "\n",
    "Write a script that makes the calculation for the vineyard owner. The program should ask the user to input the following:\n",
    "- The length of the row, in feet.\n",
    "- The amount of space used by an end-post assembly, in feet.\n",
    "- The amount of space between the vines, in feet.\n",
    "\n",
    "Once the input data has been entered, the program should calculate and display the number of grapevines that will fit in the row."
   ]
  },
  {
   "cell_type": "code",
   "execution_count": 2,
   "metadata": {},
   "outputs": [
    {
     "name": "stdout",
     "output_type": "stream",
     "text": [
      "Note: Enter the measurements in feet\n",
      "\n",
      "Enter the length of row\t\t\t\t\t: 25\n",
      "Enter the amount of space used by an end-post assembly\t: 10\n",
      "Enter the amount of space between the vines\t\t: 10\n",
      "\n",
      "Number of grapevines to fit in the row is 0.50.\n"
     ]
    }
   ],
   "source": [
    "# calculate the number of vinces that will fit in the row along with the trellis \n",
    "# end-post assemblies that will need to be constrcuted at each end of the row.\n",
    "\n",
    "def calculateGrapevinesNumber(r, e, s):\n",
    "    return (r - (2 * e))/(s)\n",
    "\n",
    "def getInput(message, zeroAllowed=False):\n",
    "    loop = True\n",
    "    while loop:\n",
    "        \n",
    "        # test the input is not zero\n",
    "        try:\n",
    "            i = float(input(message))\n",
    "        except ValueError:\n",
    "            print('You have entered an invalid number.  Please try again!\\n')\n",
    "            continue\n",
    "            \n",
    "        # test input is not zero (when zeroAllowed=False) \n",
    "        # in order not to cause division by zero error\n",
    "        if not zeroAllowed:\n",
    "            try:\n",
    "                test = 1/i\n",
    "            except ZeroDivisionError:\n",
    "                print('You have entered a zero.  Please try again!\\n')\n",
    "                continue\n",
    "                        \n",
    "        # all tests passed, no lopping is needed\n",
    "        loop = False\n",
    "        \n",
    "    return i\n",
    "\n",
    "print('Note: Enter the measurements in feet\\n')\n",
    "rowLength = getInput('Enter the length of row\\t\\t\\t\\t\\t: ')\n",
    "\n",
    "# test numerator (R - 2E) is not less or equal zero\n",
    "while True:\n",
    "    endpostAssembly = getInput('Enter the amount of space used by an end-post assembly\\t: ')\n",
    "    if (rowLength - (2 * endpostAssembly)) < 0.:\n",
    "        print('Too much space used by an end-post assembly.  Please try again!\\n')\n",
    "    else:\n",
    "        break  \n",
    "        \n",
    "spaceBetweenVines = getInput('Enter the amount of space between the vines\\t\\t: ')\n",
    "\n",
    "grapevinesNumber = calculateGrapevinesNumber(rowLength, endpostAssembly, spaceBetweenVines)\n",
    "print('\\nNumber of grapevines to fit in the row is {:.2f}.'.format(grapevinesNumber))"
   ]
  },
  {
   "cell_type": "markdown",
   "metadata": {},
   "source": [
    "# Question 2\n",
    "A class has two tests worth 25 points each along with a main exam worth 50 points.  For a student to pass the class, they must obtain an overall score of at least 50 points, and must obtain at least 25 points in the main exam. If a student’s total score is less than 50 or they obtain less than 25 points in the main exam, they receive a grade of “Fail”. Otherwise, their grade is as follows:\n",
    "\n",
    "- If they get more than 80, they get a grade of “Distinction”. 50–59 = “Pass”.\n",
    "- If they get less than 80 but more than 60, they get a “Credit” grade.\n",
    "- If they get less than 60, they get a ”Pass” grade.\n",
    "\n",
    "Write a script that prompts the user to enter their points for both tests and the exam and converts the values to integers. The script should first check if the points entered for the tests and exam are valid. If any of the test scores are not between 0 and 25, or the exam score is not between 0 and 50, the script should display an error message.\n",
    "\n",
    "Otherwise, the script should display the total points and the grade."
   ]
  },
  {
   "cell_type": "code",
   "execution_count": 4,
   "metadata": {},
   "outputs": [
    {
     "name": "stdout",
     "output_type": "stream",
     "text": [
      "Enter the FIRST test points\t: 13\n",
      "Enter the SECOND test points\t: 13\n",
      "Enter the EXAMINATION points\t: 40\n",
      "\n",
      "The total points is (66) and the grade is (Credit).\n"
     ]
    }
   ],
   "source": [
    "# get the marks of test and/or exam\n",
    "# also check the mark entered is in the range\n",
    "def getMark(message, low=0, high=100):\n",
    "    while True:\n",
    "        try:\n",
    "            m = int(input(message))\n",
    "            \n",
    "            # if the mark entered is not in the \n",
    "            if not m in range(low, high+1):\n",
    "                print('The point is not in between {} and {}.  Please try again!\\n'.format(low, high))\n",
    "                continue\n",
    "        except ValueError:\n",
    "            # Re-entered the mark if the input cannot be converted to integer\n",
    "            print('You have entered an invalid point.  Please try again!\\n')\n",
    "            continue\n",
    "        break\n",
    "    return m\n",
    "\n",
    "# determine student's grade is Distinction, Pass, Credit or Fail\n",
    "def determineGrade(t1, t2, ex, total, examPassPts=25, distinctionL=80, creditL=60, passL=50, fullMark=100):\n",
    "    \n",
    "    if ex < examPassPts:\n",
    "        return 'Fail'\n",
    "    elif total in range(distinctionL, fullMark+1):\n",
    "        return 'Distinction'\n",
    "    elif total in range(creditL, distinctionL):\n",
    "        return 'Credit'\n",
    "    elif total in range(passL, creditL):\n",
    "        return 'Pass'\n",
    "    else:\n",
    "        return 'Fail'\n",
    "\n",
    "test1 = getMark('Enter the FIRST test points\\t: ', high=25)\n",
    "test2 = getMark('Enter the SECOND test points\\t: ', high=25)    \n",
    "exam = getMark('Enter the EXAMINATION points\\t: ', high=50)\n",
    "\n",
    "totalPts = test1 + test2 + exam\n",
    "print('\\nThe total points is ({}) and the grade is ({}).'.format(totalPts, determineGrade(test1, test2, exam, totalPts)))\n"
   ]
  },
  {
   "cell_type": "markdown",
   "metadata": {},
   "source": [
    "# Question 3\n",
    "A “sleep debt” represents the difference between a person’s desirable and actual amount of sleep. Write a script that prompts the user to enter how many hours they slept each day over a period of seven days. Using 8 hours per day as the desirable amount of sleep, determine their sleep debt by calculating the total hours of sleep they got over the seven-day period and subtracting that from the total hours of sleep they should have got. If the user does not have a sleep debt, display a message expressing your jealousy."
   ]
  },
  {
   "cell_type": "code",
   "execution_count": null,
   "metadata": {},
   "outputs": [],
   "source": []
  }
 ],
 "metadata": {
  "kernelspec": {
   "display_name": "Python 3",
   "language": "python",
   "name": "python3"
  },
  "language_info": {
   "codemirror_mode": {
    "name": "ipython",
    "version": 3
   },
   "file_extension": ".py",
   "mimetype": "text/x-python",
   "name": "python",
   "nbconvert_exporter": "python",
   "pygments_lexer": "ipython3",
   "version": "3.7.5"
  }
 },
 "nbformat": 4,
 "nbformat_minor": 2
}
