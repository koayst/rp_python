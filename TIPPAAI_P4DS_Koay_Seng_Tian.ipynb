{
 "cells": [
  {
   "cell_type": "markdown",
   "metadata": {},
   "source": [
    "<img src='rplogo_small.png'>\n",
    "<h1>\n",
    "    <center>TIPP - AAI Assignement (Python for Data Science)</center>\n",
    "    <center>Due Due: 31st January 2020</center>\n",
    "</h1>\n",
    "<h3>\n",
    "    <center>Name: Koay Seng Tian</center></h4>\n",
    "    <center>Email: sengtian@yahoo.com</center></h4>\n",
    "</h3>"
   ]
  },
  {
   "cell_type": "code",
   "execution_count": 1,
   "metadata": {},
   "outputs": [
    {
     "name": "stdout",
     "output_type": "stream",
     "text": [
      "Version(s):\n",
      "python = 3.7.5\n",
      "sys = 3.7.5 (default, Oct 31 2019, 15:18:51) [MSC v.1916 64 bit (AMD64)]\n"
     ]
    }
   ],
   "source": [
    "# show the versions of modules/packages imported\n",
    "from platform import python_version\n",
    "\n",
    "import sys\n",
    "\n",
    "print('Version(s):')\n",
    "print('python =', python_version())\n",
    "print('sys =', sys.version)"
   ]
  },
  {
   "cell_type": "markdown",
   "metadata": {},
   "source": [
    "## Question 1\n",
    "A vineyard owner is planting several new rows of grapevines, and needs to know how many grapevines to plant in each row. She has determined that after measuring the length of a future row, she can use the following formula to calculate the number of vines that will fit in the row, along with the trellis end-post assemblies that will need to be constructed at each end of the row:\n",
    "\n",
    "\\begin{equation}V = \\frac{R - 2E}{S} \\end{equation}\n",
    "\n",
    "The terms in the formula are:\n",
    "- V is the number of grapevines that will fit in the row.\n",
    "- R is the length of the row, in feet.\n",
    "- E is the amount of space, in feet, used by an end-post assembly. \n",
    "- S is the space between vines, in feet.\n",
    "\n",
    "Write a script that makes the calculation for the vineyard owner. The program should ask the user to input the following:\n",
    "- The length of the row, in feet.\n",
    "- The amount of space used by an end-post assembly, in feet.\n",
    "- The amount of space between the vines, in feet.\n",
    "\n",
    "Once the input data has been entered, the program should calculate and display the number of grapevines that will fit in the row."
   ]
  },
  {
   "cell_type": "code",
   "execution_count": 2,
   "metadata": {},
   "outputs": [
    {
     "name": "stdout",
     "output_type": "stream",
     "text": [
      "Note: Enter the measurements in feet\n",
      "\n",
      "Enter the length of row\t\t\t\t\t: 40\n",
      "Enter the amount of space used by an end-post assembly\t: 10\n",
      "Enter the amount of space between the vines\t\t: 2\n",
      "\n",
      "Number of grapevines to fit in the row is 10.00.\n"
     ]
    }
   ],
   "source": [
    "# calculate the number of vinces that will fit in the row along with the trellis \n",
    "# end-post assemblies that will need to be constrcuted at each end of the row.\n",
    "\n",
    "def calculateGrapevinesNumber(r, e, s):\n",
    "    return (r - (2 * e))/(s)\n",
    "\n",
    "def getInput(message, zeroAllowed=False):\n",
    "    loop = True\n",
    "    while loop:\n",
    "        \n",
    "        # test the input is not zero\n",
    "        try:\n",
    "            i = float(input(message))\n",
    "        except ValueError:\n",
    "            print('You have entered an invalid number.  Please try again!\\n')\n",
    "            continue\n",
    "            \n",
    "        # test input is not zero (when zeroAllowed=False) \n",
    "        # in order not to cause division by zero error\n",
    "        if not zeroAllowed:\n",
    "            try:\n",
    "                test = 1/i\n",
    "            except ZeroDivisionError:\n",
    "                print('You have entered a zero.  Please try again!\\n')\n",
    "                continue\n",
    "                        \n",
    "        # all tests passed, no lopping is needed\n",
    "        loop = False\n",
    "        \n",
    "    return i\n",
    "\n",
    "print('Note: Enter the measurements in feet\\n')\n",
    "rowLength = getInput('Enter the length of row\\t\\t\\t\\t\\t: ')\n",
    "\n",
    "# test numerator (R - 2E) is not less or equal zero\n",
    "while True:\n",
    "    endpostAssembly = getInput('Enter the amount of space used by an end-post assembly\\t: ')\n",
    "    if (rowLength - (2 * endpostAssembly)) <= 0.:\n",
    "        print('Too much space used by an end-post assembly.  Please try again!\\n')\n",
    "    else:\n",
    "        break  \n",
    "        \n",
    "spaceBetweenVines = getInput('Enter the amount of space between the vines\\t\\t: ')\n",
    "\n",
    "grapevinesNumber = calculateGrapevinesNumber(rowLength, endpostAssembly, spaceBetweenVines)\n",
    "print('\\nNumber of grapevines to fit in the row is {:.2f}.'.format(grapevinesNumber))"
   ]
  },
  {
   "cell_type": "code",
   "execution_count": null,
   "metadata": {},
   "outputs": [],
   "source": []
  }
 ],
 "metadata": {
  "kernelspec": {
   "display_name": "Python 3",
   "language": "python",
   "name": "python3"
  },
  "language_info": {
   "codemirror_mode": {
    "name": "ipython",
    "version": 3
   },
   "file_extension": ".py",
   "mimetype": "text/x-python",
   "name": "python",
   "nbconvert_exporter": "python",
   "pygments_lexer": "ipython3",
   "version": "3.7.5"
  }
 },
 "nbformat": 4,
 "nbformat_minor": 2
}
